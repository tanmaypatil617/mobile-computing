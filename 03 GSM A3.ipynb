{
 "cells": [
  {
   "cell_type": "code",
   "execution_count": null,
   "metadata": {},
   "outputs": [],
   "source": [
    "import random\n",
    "\n",
    "k=random.getrandbits(128)\n",
    "m=random.getrandbits(128)\n",
    "kb=bin(k)[2:]\n",
    "mb=bin(m)[2:] Hello\n",
    "kbl=kb[0:64]\n",
    "kbr=kb[64:]\n",
    "mbl=mb[0:64]\n",
    "mbr=mb[64:]\n",
    "a1=int(kbl,2)^int(mbr,2)\n",
    "a2=int(kbr,2)^int(mbl,2)\n",
    "a3=a1^a2\n",
    "a4=bin(a3)[2:].zfill(64)\n",
    "a5=a4[0:32]\n",
    "a6=a4[32:]\n",
    "a7=int(a5,2)^int(a6,2)\n",
    "print(\"128 Bit Key = \",kb)\n",
    "print(\"128 Random Bits Generated = \",mb)\n",
    "print(\"RES/SRES = \",bin(a7)[2:].zfill(len(a5)))"
   ]
  }
 ],
 "metadata": {
  "language_info": {
   "name": "python"
  },
  "orig_nbformat": 4
 },
 "nbformat": 4,
 "nbformat_minor": 2
}
